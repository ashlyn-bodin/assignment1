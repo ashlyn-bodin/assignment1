{
 "cells": [
  {
   "cell_type": "markdown",
   "metadata": {},
   "source": [
    "**Problem 2**\n",
    "\n",
    "Given a list:\n",
    "\n",
    "list_a = [3, 4, 6, 10, 39, 87, 12, 54]\n",
    "\n",
    "(a) Find the maximum, minimum, and summation number of the list.\n",
    "\n",
    "(b) Sort the list in ascending order \n",
    "\n",
    "(c) Write a for loop to print each element in list_a"
   ]
  },
  {
   "cell_type": "markdown",
   "metadata": {},
   "source": [
    "**part a**"
   ]
  },
  {
   "cell_type": "code",
   "execution_count": 1,
   "metadata": {},
   "outputs": [
    {
     "name": "stdout",
     "output_type": "stream",
     "text": [
      "the maximum is: 87\n",
      "the minimum is: 3\n",
      "the summation is: 215\n"
     ]
    }
   ],
   "source": [
    "#written by Ashlyn Bodin\n",
    "\n",
    "list_a = [3, 4, 6, 10, 39, 87, 12, 54]\n",
    "\n",
    "max_list=max(list_a)\n",
    "min_list=min(list_a)\n",
    "sum_list=sum(list_a)\n",
    "\n",
    "print(\"the maximum is:\", max_list)\n",
    "print (\"the minimum is:\", min_list)\n",
    "print(\"the summation is:\", sum_list)"
   ]
  },
  {
   "cell_type": "markdown",
   "metadata": {},
   "source": [
    "**part b**"
   ]
  },
  {
   "cell_type": "code",
   "execution_count": 2,
   "metadata": {},
   "outputs": [
    {
     "name": "stdout",
     "output_type": "stream",
     "text": [
      "sorted in asscending order: [3, 4, 6, 10, 12, 39, 54, 87]\n"
     ]
    }
   ],
   "source": [
    "#written by Ashlyn Bodin\n",
    "\n",
    "list_a.sort()\n",
    "print(\"sorted in asscending order:\", list_a)"
   ]
  },
  {
   "cell_type": "markdown",
   "metadata": {},
   "source": [
    "**part c**"
   ]
  },
  {
   "cell_type": "code",
   "execution_count": 3,
   "metadata": {},
   "outputs": [
    {
     "name": "stdout",
     "output_type": "stream",
     "text": [
      "3\n",
      "4\n",
      "6\n",
      "10\n",
      "12\n",
      "39\n",
      "54\n",
      "87\n"
     ]
    }
   ],
   "source": [
    "#written by Ashlyn Bodin\n",
    "\n",
    "for element in list_a:\n",
    "    print(element)"
   ]
  },
  {
   "cell_type": "markdown",
   "metadata": {},
   "source": [
    "**Problem 3**\n",
    "\n",
    "A prime number is a whole number greater than 1 whose only factors are 1 and itself. A factor is a whole number that can be divided evenly into another number. \n",
    "\n",
    "(a) Based on the definition of prime number, define a function to determine whether an input integer is a prime number or not \n",
    "\n",
    "(b) Find all prime numbers bleow 100\n",
    "\n",
    "(c) Define a function to find all prime numbers below a custom-defined nubmer, n\n",
    "\n",
    "(d) Call your defined function to find all prime numbers with n = 1000"
   ]
  },
  {
   "cell_type": "markdown",
   "metadata": {},
   "source": [
    "**part a**"
   ]
  },
  {
   "cell_type": "code",
   "execution_count": 64,
   "metadata": {},
   "outputs": [],
   "source": [
    "def prime(num):\n",
    "    if num <= 1:\n",
    "        return False \n",
    "    for i in range(2, int(num**0.5)+1):\n",
    "        if num % i == 0:\n",
    "            return False \n",
    "    return True "
   ]
  },
  {
   "cell_type": "markdown",
   "metadata": {},
   "source": [
    "**part b**"
   ]
  },
  {
   "cell_type": "code",
   "execution_count": 155,
   "metadata": {},
   "outputs": [
    {
     "name": "stdout",
     "output_type": "stream",
     "text": [
      "prime numbers below 100 are:\n",
      "2\n",
      "3\n",
      "5\n",
      "7\n",
      "11\n",
      "13\n",
      "17\n",
      "19\n",
      "23\n",
      "29\n",
      "31\n",
      "37\n",
      "41\n",
      "43\n",
      "47\n",
      "53\n",
      "59\n",
      "61\n",
      "67\n",
      "71\n",
      "73\n",
      "79\n",
      "83\n",
      "89\n",
      "97\n"
     ]
    }
   ],
   "source": [
    "print(\"prime numbers below 100 are:\")\n",
    "for num in range(2, 100):\n",
    "    if prime(num):\n",
    "        print(num)"
   ]
  },
  {
   "cell_type": "markdown",
   "metadata": {},
   "source": [
    "**part c**"
   ]
  },
  {
   "cell_type": "code",
   "execution_count": 162,
   "metadata": {},
   "outputs": [],
   "source": [
    "def primes_under(n):\n",
    "    for num in range(2, n):\n",
    "        if prime(num):\n",
    "            print(num, end=\", \")"
   ]
  },
  {
   "cell_type": "markdown",
   "metadata": {},
   "source": [
    "**Part d**"
   ]
  },
  {
   "cell_type": "code",
   "execution_count": 161,
   "metadata": {},
   "outputs": [
    {
     "name": "stdout",
     "output_type": "stream",
     "text": [
      "prime numbers below 1000 are:\n",
      "2,3,5,7,11,13,17,19,23,29,31,37,41,43,47,53,59,61,67,71,73,79,83,89,97,101,103,107,109,113,127,131,137,139,149,151,157,163,167,173,179,181,191,193,197,199,211,223,227,229,233,239,241,251,257,263,269,271,277,281,283,293,307,311,313,317,331,337,347,349,353,359,367,373,379,383,389,397,401,409,419,421,431,433,439,443,449,457,461,463,467,479,487,491,499,503,509,521,523,541,547,557,563,569,571,577,587,593,599,601,607,613,617,619,631,641,643,647,653,659,661,673,677,683,691,701,709,719,727,733,739,743,751,757,761,769,773,787,797,809,811,821,823,827,829,839,853,857,859,863,877,881,883,887,907,911,919,929,937,941,947,953,967,971,977,983,991,997,"
     ]
    }
   ],
   "source": [
    "print(\"prime numbers below 1000 are:\")\n",
    "primes_under_1000 = primes_under(1000)"
   ]
  },
  {
   "cell_type": "markdown",
   "metadata": {},
   "source": [
    "**Problem 4**\n",
    "\n",
    "(a) Define a function to output a 3D (nx3x3) numpy array, where n is the input value (argument) of the function to control the lenght of the array, and data is the input value that determines what kind of data it contains. \n",
    "\n",
    "(b) Call the function for n=10 and populate the array with zeroes\n",
    "\n",
    "(c) Call the function for n=5 and populate the array with random numbers between 1 and 100"
   ]
  },
  {
   "cell_type": "markdown",
   "metadata": {},
   "source": [
    "**part a**"
   ]
  },
  {
   "cell_type": "code",
   "execution_count": 167,
   "metadata": {},
   "outputs": [],
   "source": [
    "import numpy as np \n",
    "\n",
    "def np_3D_array(n,data ='zeros'):\n",
    "    if data =='zeros':\n",
    "        return np.zeros((n, 3, 3))\n",
    "    elif data == 'random':\n",
    "        return np.random.randint(1, 101, (n, 3, 3))\n",
    "    else:\n",
    "        raise ValueError(\"not valid data. Choose 'zeros' or 'random'\")"
   ]
  },
  {
   "cell_type": "markdown",
   "metadata": {},
   "source": [
    "**part b**"
   ]
  },
  {
   "cell_type": "code",
   "execution_count": 169,
   "metadata": {},
   "outputs": [
    {
     "data": {
      "text/plain": [
       "array([[[0., 0., 0.],\n",
       "        [0., 0., 0.],\n",
       "        [0., 0., 0.]],\n",
       "\n",
       "       [[0., 0., 0.],\n",
       "        [0., 0., 0.],\n",
       "        [0., 0., 0.]],\n",
       "\n",
       "       [[0., 0., 0.],\n",
       "        [0., 0., 0.],\n",
       "        [0., 0., 0.]],\n",
       "\n",
       "       [[0., 0., 0.],\n",
       "        [0., 0., 0.],\n",
       "        [0., 0., 0.]],\n",
       "\n",
       "       [[0., 0., 0.],\n",
       "        [0., 0., 0.],\n",
       "        [0., 0., 0.]],\n",
       "\n",
       "       [[0., 0., 0.],\n",
       "        [0., 0., 0.],\n",
       "        [0., 0., 0.]],\n",
       "\n",
       "       [[0., 0., 0.],\n",
       "        [0., 0., 0.],\n",
       "        [0., 0., 0.]],\n",
       "\n",
       "       [[0., 0., 0.],\n",
       "        [0., 0., 0.],\n",
       "        [0., 0., 0.]],\n",
       "\n",
       "       [[0., 0., 0.],\n",
       "        [0., 0., 0.],\n",
       "        [0., 0., 0.]],\n",
       "\n",
       "       [[0., 0., 0.],\n",
       "        [0., 0., 0.],\n",
       "        [0., 0., 0.]]])"
      ]
     },
     "execution_count": 169,
     "metadata": {},
     "output_type": "execute_result"
    }
   ],
   "source": [
    "array_one = np_3D_array(10, \"zeros\")\n",
    "array_one"
   ]
  },
  {
   "cell_type": "markdown",
   "metadata": {},
   "source": [
    "**part c**"
   ]
  },
  {
   "cell_type": "code",
   "execution_count": 170,
   "metadata": {},
   "outputs": [
    {
     "data": {
      "text/plain": [
       "array([[[75, 16,  3],\n",
       "        [15, 38, 65],\n",
       "        [31, 66, 90]],\n",
       "\n",
       "       [[47, 53, 30],\n",
       "        [85, 50,  7],\n",
       "        [63, 38, 32]],\n",
       "\n",
       "       [[62,  1, 64],\n",
       "        [98, 62, 22],\n",
       "        [81, 52, 82]],\n",
       "\n",
       "       [[89, 26, 48],\n",
       "        [73, 39, 71],\n",
       "        [14, 51, 90]],\n",
       "\n",
       "       [[56, 37, 99],\n",
       "        [73, 10, 67],\n",
       "        [63, 18, 43]]])"
      ]
     },
     "execution_count": 170,
     "metadata": {},
     "output_type": "execute_result"
    }
   ],
   "source": [
    "array_two = np_3D_array(5,\"random\")\n",
    "array_two"
   ]
  },
  {
   "cell_type": "markdown",
   "metadata": {},
   "source": [
    "**Problem 5**\n",
    "\n",
    "Solve following set of equations using linear algebra and numpy. \n",
    "\n",
    "3a + 4b -5c = 10 \n",
    "\n",
    "5b + c = 8 \n",
    "\n",
    "a + 3b + 6c = -5"
   ]
  },
  {
   "cell_type": "markdown",
   "metadata": {},
   "source": [
    "**part a**"
   ]
  },
  {
   "cell_type": "code",
   "execution_count": 172,
   "metadata": {},
   "outputs": [
    {
     "name": "stdout",
     "output_type": "stream",
     "text": [
      "[[-1.7]\n",
      " [ 1.9]\n",
      " [-1.5]]\n"
     ]
    }
   ],
   "source": [
    "import numpy as np \n",
    "\n",
    "A = np.matrix([\n",
    "    [3, 4, -5],\n",
    "    [0, 5, 1,],\n",
    "    [1, 3, 6],\n",
    "    ])\n",
    "\n",
    "B = np.matrix([\n",
    "    [10],\n",
    "    [8],\n",
    "    [-5]\n",
    "    ])\n",
    "\n",
    "X = np.dot(np.linalg.inv(A),B)\n",
    "print(X)"
   ]
  },
  {
   "cell_type": "markdown",
   "metadata": {},
   "source": [
    "**Problem 6**\n",
    "\n",
    "Given an expression: \n",
    "\n",
    "y=0.1x^3-x^2+5\n",
    "\n",
    "(a) Plot the function in the range of x from -5 to 5 \n",
    "\n",
    "(b) Find the maximum and minimum value of this function and then with points and labels on the same figure. "
   ]
  },
  {
   "cell_type": "markdown",
   "metadata": {},
   "source": [
    "**part a**"
   ]
  },
  {
   "cell_type": "code",
   "execution_count": 173,
   "metadata": {},
   "outputs": [],
   "source": [
    "import numpy as np\n",
    "import matplotlib.pyplot as plt \n",
    "from scipy.optimize import minimize_scalar"
   ]
  },
  {
   "cell_type": "code",
   "execution_count": 175,
   "metadata": {},
   "outputs": [],
   "source": [
    "def f(x):\n",
    "    return 0.1 * x**3 - x**2 + 5\n",
    "x_values = np.linspace(-5, 5, 400)\n",
    "y_values = f(x_values)"
   ]
  },
  {
   "cell_type": "code",
   "execution_count": 179,
   "metadata": {},
   "outputs": [],
   "source": [
    "res_min = minimize_scalar(f, bounds=(-5, 5), method='bounded')\n",
    "res_max = minimize_scalar(lambda x: -f(x), bounds=(-5, 5), method='bounded')\n",
    "x_min, y_min = res_min.x, res_min.fun\n",
    "x_max, y_max = res_max.x, -res_max.fun"
   ]
  },
  {
   "cell_type": "markdown",
   "metadata": {},
   "source": [
    "**part b**"
   ]
  },
  {
   "cell_type": "code",
   "execution_count": 185,
   "metadata": {},
   "outputs": [
    {
     "data": {
      "text/plain": [
       "Text(-1.149091560348657e-07, 4.999999999999987, 'Max: (-0.00, 5.00)')"
      ]
     },
     "execution_count": 185,
     "metadata": {},
     "output_type": "execute_result"
    },
    {
     "data": {
      "image/png": "[encoded data removed]",
      "text/plain": [
       "<Figure size 800x500 with 1 Axes>"
      ]
     },
     "metadata": {},
     "output_type": "display_data"
    }
   ],
   "source": [
    "plt.figure(figsize=(8, 5))\n",
    "plt.plot(x_values, y_values, label=r'$y = 0.1x^3 - x^2 + 5$', color='b')\n",
    "plt.scatter([x_min, x_max], [y_min, y_max], color='red', zorder=3)\n",
    "plt.text(x_min, y_min, f'Min:({x_min:.2f}, {y_min:.2f})',\n",
    "         verticalalignment ='bottom', horizontalalignment='right', fontsize=10, color='red')\n",
    "plt.text(x_max, y_max, f'Max: ({x_max:.2f}, {y_max:.2f})',\n",
    "         verticalalignment='top', horizontalalignment='left', fontsize=10, color='red')"
   ]
  }
 ],
 "metadata": {
  "kernelspec": {
   "display_name": "base",
   "language": "python",
   "name": "python3"
  },
  "language_info": {
   "codemirror_mode": {
    "name": "ipython",
    "version": 3
   },
   "file_extension": ".py",
   "mimetype": "text/x-python",
   "name": "python",
   "nbconvert_exporter": "python",
   "pygments_lexer": "ipython3",
   "version": "3.12.7"
  }
 },
 "nbformat": 4,
 "nbformat_minor": 2
}
